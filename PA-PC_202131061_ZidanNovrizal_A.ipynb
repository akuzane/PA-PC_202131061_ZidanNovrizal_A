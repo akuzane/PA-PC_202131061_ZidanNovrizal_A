{
 "cells": [
  {
   "cell_type": "markdown",
   "id": "dbcc5fc7",
   "metadata": {},
   "source": [
    "#### Import Library"
   ]
  },
  {
   "cell_type": "code",
   "execution_count": 1,
   "id": "b90bfe29",
   "metadata": {},
   "outputs": [],
   "source": [
    "import cv2\n",
    "import numpy as np\n",
    "import matplotlib.pyplot as plt"
   ]
  },
  {
   "cell_type": "markdown",
   "id": "d9c37d9d",
   "metadata": {},
   "source": [
    "##### Proses Kontur"
   ]
  },
  {
   "cell_type": "code",
   "execution_count": 2,
   "id": "f88e9cf7",
   "metadata": {},
   "outputs": [
    {
     "data": {
      "text/plain": [
       "array([[[255, 255, 255],\n",
       "        [255, 255, 255],\n",
       "        [255, 255, 255],\n",
       "        ...,\n",
       "        [255, 255, 255],\n",
       "        [255, 255, 255],\n",
       "        [255, 255, 255]],\n",
       "\n",
       "       [[255, 255, 255],\n",
       "        [255, 255, 255],\n",
       "        [255, 255, 255],\n",
       "        ...,\n",
       "        [255, 255, 255],\n",
       "        [255, 255, 255],\n",
       "        [255, 255, 255]],\n",
       "\n",
       "       [[255, 255, 255],\n",
       "        [255, 255, 255],\n",
       "        [255, 255, 255],\n",
       "        ...,\n",
       "        [255, 255, 255],\n",
       "        [255, 255, 255],\n",
       "        [255, 255, 255]],\n",
       "\n",
       "       ...,\n",
       "\n",
       "       [[255, 255, 255],\n",
       "        [255, 255, 255],\n",
       "        [255, 255, 255],\n",
       "        ...,\n",
       "        [255, 255, 255],\n",
       "        [255, 255, 255],\n",
       "        [255, 255, 255]],\n",
       "\n",
       "       [[255, 255, 255],\n",
       "        [255, 255, 255],\n",
       "        [255, 255, 255],\n",
       "        ...,\n",
       "        [255, 255, 255],\n",
       "        [255, 255, 255],\n",
       "        [255, 255, 255]],\n",
       "\n",
       "       [[255, 255, 255],\n",
       "        [255, 255, 255],\n",
       "        [255, 255, 255],\n",
       "        ...,\n",
       "        [255, 255, 255],\n",
       "        [255, 255, 255],\n",
       "        [255, 255, 255]]], dtype=uint8)"
      ]
     },
     "execution_count": 2,
     "metadata": {},
     "output_type": "execute_result"
    }
   ],
   "source": [
    "# Membaca gambar\n",
    "gambar = cv2.imread('gambar.jpg')\n",
    "\n",
    "# Konversi gambar ke skala abu-abu\n",
    "abu_abu = cv2.cvtColor(gambar, cv2.COLOR_BGR2GRAY)\n",
    "\n",
    "# Melakukan operasi deteksi tepi pada gambar\n",
    "tanda_tepi = cv2.Canny(abu_abu, 30, 150)\n",
    "\n",
    "# Mencari kontur pada gambar\n",
    "kontur, _ = cv2.findContours(tanda_tepi, cv2.RETR_EXTERNAL, cv2.CHAIN_APPROX_SIMPLE)\n",
    "\n",
    "# Salinan gambar asli\n",
    "gambar_asli = np.copy(gambar)\n",
    "\n",
    "# Gambar kontur pada gambar asli\n",
    "cv2.drawContours(gambar_asli, kontur, -1, (0, 0, 255), 3)\n",
    "\n",
    "# Salinan gambar asli dengan latar belakang putih\n",
    "gambar_putih = np.ones_like(gambar) * 255\n",
    "\n",
    "# Gambar kontur pada latar belakang putih\n",
    "cv2.drawContours(gambar_putih, kontur, -1, (0, 0, 255), 3)"
   ]
  },
  {
   "cell_type": "markdown",
   "id": "096a91ad",
   "metadata": {},
   "source": [
    "##### Menampilkan Gambar"
   ]
  },
  {
   "cell_type": "code",
   "execution_count": null,
   "id": "8f4b4ec6",
   "metadata": {},
   "outputs": [
    {
     "data": {
      "text/plain": [
       "Text(0.5, 1.0, 'Gambar dengan Kontur(2)')"
      ]
     },
     "execution_count": 3,
     "metadata": {},
     "output_type": "execute_result"
    }
   ],
   "source": [
    "# Menampilkan gambar dalam subplot\n",
    "fig, ax = plt.subplots(1, 3, figsize=(15, 11))\n",
    "\n",
    "# Menampilkan gambar asli pada subplot pertama\n",
    "ax[0].imshow(cv2.cvtColor(gambar, cv2.COLOR_BGR2RGB))\n",
    "ax[0].set_title('Gambar Asli')\n",
    "\n",
    "# Menampilkan gambar dengan kontur pada subplot kedua\n",
    "ax[1].imshow(cv2.cvtColor(gambar_putih, cv2.COLOR_BGR2RGB))\n",
    "ax[1].set_title('Gambar dengan Kontur(1)')\n",
    "\n",
    "# Menampilkan gambar kontur pada latar belakang putih pada subplot ketiga\n",
    "ax[2].imshow(cv2.cvtColor(gambar_asli, cv2.COLOR_BGR2RGB))\n",
    "ax[2].set_title('Gambar dengan Kontur(2)')"
   ]
  }
 ],
 "metadata": {
  "kernelspec": {
   "display_name": "Python 3 (ipykernel)",
   "language": "python",
   "name": "python3"
  },
  "language_info": {
   "codemirror_mode": {
    "name": "ipython",
    "version": 3
   },
   "file_extension": ".py",
   "mimetype": "text/x-python",
   "name": "python",
   "nbconvert_exporter": "python",
   "pygments_lexer": "ipython3",
   "version": "3.10.9"
  }
 },
 "nbformat": 4,
 "nbformat_minor": 5
}
